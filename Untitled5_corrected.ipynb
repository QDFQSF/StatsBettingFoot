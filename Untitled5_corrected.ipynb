{
 "cells": [
  {
   "cell_type": "code",
   "execution_count": 76,
   "id": "05872ec5-d635-414e-b790-f21b376e4784",
   "metadata": {},
   "outputs": [],
   "source": [
    "from scipy.optimize import minimize_scalar\n",
    "import itertools\n"
   ]
  },
  {
   "cell_type": "code",
   "execution_count": 77,
   "id": "e8257435-be3b-48d0-9b80-3f28650f6b22",
   "metadata": {},
   "outputs": [],
   "source": [
    "# 1. Importations\n",
    "import pandas as pd\n",
    "import numpy as np\n",
    "from datetime import datetime\n",
    "from sklearn.linear_model import LogisticRegression\n",
    "from sklearn.metrics import log_loss, accuracy_score\n",
    "from sklearn.calibration import calibration_curve\n",
    "from scipy.stats import poisson\n",
    "from scipy.optimize import minimize_scalar\n",
    "import matplotlib.pyplot as plt"
   ]
  },
  {
   "cell_type": "code",
   "execution_count": 78,
   "id": "690bfe73-ced6-4c99-821f-6fb181e6fb28",
   "metadata": {},
   "outputs": [],
   "source": [
    "# 2. Chargement des données (5 championnats)\n",
    "urls = {\n",
    "    'FRA': \"https://www.football-data.co.uk/mmz4281/2425/F1.csv\",\n",
    "    'ENG': \"https://www.football-data.co.uk/mmz4281/2425/E0.csv\",\n",
    "    'ESP': \"https://www.football-data.co.uk/mmz4281/2425/SP1.csv\",\n",
    "    'GER': \"https://www.football-data.co.uk/mmz4281/2425/D1.csv\",\n",
    "    'ITA': \"https://www.football-data.co.uk/mmz4281/2425/I1.csv\"\n",
    "}\n",
    "\n",
    "frames = []\n",
    "for code, url in urls.items():\n",
    "    df = pd.read_csv(url)\n",
    "    df['League'] = code\n",
    "    frames.append(df)\n",
    "\n",
    "df = pd.concat(frames, ignore_index=True)\n",
    "df['Date'] = pd.to_datetime(df['Date'], dayfirst=True, errors='coerce')\n",
    "df = df.dropna(subset=['Date', 'FTHG', 'FTAG'])\n",
    "df = df.sort_values('Date').reset_index(drop=True)"
   ]
  },
  {
   "cell_type": "code",
   "execution_count": 79,
   "id": "8df71f96-898c-4b6c-8147-edfb5519cf9e",
   "metadata": {},
   "outputs": [],
   "source": [
    "# 3. Création de la cible\n",
    "\n",
    "def get_result(row):\n",
    "    if row['FTHG'] > row['FTAG']: return 0\n",
    "    if row['FTHG'] == row['FTAG']: return 1\n",
    "    return 2\n",
    "\n",
    "df['Result'] = df.apply(get_result, axis=1)"
   ]
  },
  {
   "cell_type": "code",
   "execution_count": 80,
   "id": "f8cda461-b8f3-442f-8780-4ab52e5778b4",
   "metadata": {},
   "outputs": [],
   "source": [
    "# 4. Probabilités implicites à partir des cotes\n",
    "for col in ['B365H', 'B365D', 'B365A']:\n",
    "    df[col] = pd.to_numeric(df[col], errors='coerce')\n",
    "\n",
    "def implied_prob(row):\n",
    "    probs = [1 / row['B365H'], 1 / row['B365D'], 1 / row['B365A']]\n",
    "    total = sum(probs)\n",
    "    return [p / total for p in probs]\n",
    "\n",
    "df[['P_home', 'P_draw', 'P_away']] = df[['B365H', 'B365D', 'B365A']].apply(implied_prob, axis=1, result_type='expand')"
   ]
  },
  {
   "cell_type": "code",
   "execution_count": 81,
   "id": "3f6ca596-5247-48b1-a986-b2b11acff915",
   "metadata": {},
   "outputs": [
    {
     "name": "stdout",
     "output_type": "stream",
     "text": [
      "Rho estimé : 0.0040\n"
     ]
    }
   ],
   "source": [
    "# 5. Modèle Poisson-Dixon-Coles\n",
    "\n",
    "# Moyennes globales\n",
    "mean_h = df['FTHG'].mean()\n",
    "mean_a = df['FTAG'].mean()\n",
    "\n",
    "# Initialisation des paramètres par équipe\n",
    "teams = pd.unique(df[['HomeTeam', 'AwayTeam']].values.ravel())\n",
    "params_df = pd.DataFrame(index=teams)\n",
    "params_df['alpha_home'] = 1.0\n",
    "params_df['beta_home'] = 1.0\n",
    "params_df['alpha_away'] = 1.0\n",
    "params_df['beta_away'] = 1.0\n",
    "\n",
    "# Ajustement Dixon-Coles\n",
    "def dc_adj(x, y, lam, mu, rho):\n",
    "    if x == 0 and y == 0: return 1 - lam * mu * rho\n",
    "    if x == 0 and y == 1: return 1 + lam * rho\n",
    "    if x == 1 and y == 0: return 1 + mu * rho\n",
    "    if x == 1 and y == 1: return 1 - rho\n",
    "    return 1.0\n",
    "\n",
    "def predict_dc(home, away, params_df, mean_h, mean_a, rho, max_goals=5):\n",
    "    lam = params_df.loc[home, 'alpha_home'] * params_df.loc[away, 'beta_away'] * mean_h\n",
    "    mu  = params_df.loc[away, 'alpha_away'] * params_df.loc[home, 'beta_home'] * mean_a\n",
    "    matrix = np.zeros((max_goals+1, max_goals+1))\n",
    "    for i in range(max_goals+1):\n",
    "        for j in range(max_goals+1):\n",
    "            matrix[i,j] = poisson.pmf(i, lam) * poisson.pmf(j, mu) * dc_adj(i, j, lam, mu, rho)\n",
    "    return {\n",
    "        'P_home': np.triu(matrix, 1).sum(),\n",
    "        'P_draw': np.trace(matrix),\n",
    "        'P_away': np.tril(matrix, -1).sum()\n",
    "    }\n",
    "\n",
    "def get_neg_log_likelihood(rho, df_sub, params_df, mean_h, mean_a):\n",
    "    ll = 0.0\n",
    "    for _, row in df_sub.iterrows():\n",
    "        try:\n",
    "            p = predict_dc(row.HomeTeam, row.AwayTeam, params_df, mean_h, mean_a, rho)\n",
    "            prob = [p['P_home'], p['P_draw'], p['P_away']][row.Result]\n",
    "            ll += np.log(max(prob, 1e-12))\n",
    "        except:\n",
    "            continue\n",
    "    return -ll\n",
    "\n",
    "# Estimation de rho\n",
    "rho = minimize_scalar(\n",
    "    get_neg_log_likelihood,\n",
    "    bounds=(0, 1),\n",
    "    args=(df, params_df, mean_h, mean_a),\n",
    "    method='bounded'\n",
    ").x\n",
    "\n",
    "print(f\"Rho estimé : {rho:.4f}\")\n"
   ]
  },
  {
   "cell_type": "code",
   "execution_count": 82,
   "id": "c99eb8e4",
   "metadata": {},
   "outputs": [],
   "source": [
    "def add_poisson_probs(df, params_df, mean_h, mean_a, rho, max_goals=5):\n",
    "    P_home, P_draw, P_away = [], [], []\n",
    "    for _, row in df.iterrows():\n",
    "        home, away = row['HomeTeam'], row['AwayTeam']\n",
    "        try:\n",
    "            lamb_h = params_df.loc[home, 'alpha_home'] * params_df.loc[away, 'beta_away'] * mean_h\n",
    "            lamb_a = params_df.loc[away, 'alpha_away'] * params_df.loc[home, 'beta_home'] * mean_a\n",
    "        except KeyError:\n",
    "            # Si une équipe est inconnue dans le modèle (ex: promu)\n",
    "            P_home.append(np.nan)\n",
    "            P_draw.append(np.nan)\n",
    "            P_away.append(np.nan)\n",
    "            continue\n",
    "\n",
    "        matrix = np.zeros((max_goals+1, max_goals+1))\n",
    "        for i in range(max_goals+1):\n",
    "            for j in range(max_goals+1):\n",
    "                base = (lamb_h**i * np.exp(-lamb_h) / np.math.factorial(i)) * \\\n",
    "                       (lamb_a**j * np.exp(-lamb_a) / np.math.factorial(j))\n",
    "                if i == 0 and j == 0:\n",
    "                    base *= (1 - lamb_h * lamb_a * rho)\n",
    "                elif i == 0 and j == 1:\n",
    "                    base *= (1 + lamb_h * rho)\n",
    "                elif i == 1 and j == 0:\n",
    "                    base *= (1 + lamb_a * rho)\n",
    "                elif i == 1 and j == 1:\n",
    "                    base *= (1 - rho)\n",
    "                matrix[i, j] = base\n",
    "\n",
    "        P_home.append(np.sum(np.tril(matrix, -1)))\n",
    "        P_draw.append(np.sum(np.diag(matrix)))\n",
    "        P_away.append(np.sum(np.triu(matrix, 1)))\n",
    "\n",
    "    df['P_home'] = P_home\n",
    "    df['P_draw'] = P_draw\n",
    "    df['P_away'] = P_away\n"
   ]
  },
  {
   "cell_type": "code",
   "execution_count": 83,
   "id": "dd3c5128-25b7-47d1-beec-a267641aa762",
   "metadata": {},
   "outputs": [],
   "source": [
    "# 6. Ajout des probabilités Poisson dans le dataset\n",
    "poisson_preds = []\n",
    "for _, row in df.iterrows():\n",
    "    try:\n",
    "        probs = predict_dc(row.HomeTeam, row.AwayTeam, params_df, mean_h, mean_a, rho)\n",
    "        poisson_preds.append(probs)\n",
    "    except:\n",
    "        poisson_preds.append({'P_home_dc': np.nan, 'P_draw_dc': np.nan, 'P_away_dc': np.nan})\n",
    "\n",
    "df_poisson = pd.DataFrame(poisson_preds)\n",
    "df[['P_home_dc', 'P_draw_dc', 'P_away_dc']] = df_poisson.values"
   ]
  },
  {
   "cell_type": "code",
   "execution_count": 84,
   "id": "1d349cf1-0e2f-4553-9ad5-33b8f251dc5a",
   "metadata": {},
   "outputs": [
    {
     "data": {
      "text/html": [
       "<div>\n",
       "<style scoped>\n",
       "    .dataframe tbody tr th:only-of-type {\n",
       "        vertical-align: middle;\n",
       "    }\n",
       "\n",
       "    .dataframe tbody tr th {\n",
       "        vertical-align: top;\n",
       "    }\n",
       "\n",
       "    .dataframe thead th {\n",
       "        text-align: right;\n",
       "    }\n",
       "</style>\n",
       "<table border=\"1\" class=\"dataframe\">\n",
       "  <thead>\n",
       "    <tr style=\"text-align: right;\">\n",
       "      <th></th>\n",
       "      <th>HomeTeam</th>\n",
       "      <th>AwayTeam</th>\n",
       "      <th>P_home</th>\n",
       "      <th>P_draw</th>\n",
       "      <th>P_away</th>\n",
       "    </tr>\n",
       "  </thead>\n",
       "  <tbody>\n",
       "    <tr>\n",
       "      <th>5</th>\n",
       "      <td>Man United</td>\n",
       "      <td>Fulham</td>\n",
       "      <td>0.408966</td>\n",
       "      <td>0.249056</td>\n",
       "      <td>0.334987</td>\n",
       "    </tr>\n",
       "    <tr>\n",
       "      <th>8</th>\n",
       "      <td>Ipswich</td>\n",
       "      <td>Liverpool</td>\n",
       "      <td>0.408966</td>\n",
       "      <td>0.249056</td>\n",
       "      <td>0.334987</td>\n",
       "    </tr>\n",
       "    <tr>\n",
       "      <th>9</th>\n",
       "      <td>Arsenal</td>\n",
       "      <td>Wolves</td>\n",
       "      <td>0.408966</td>\n",
       "      <td>0.249056</td>\n",
       "      <td>0.334987</td>\n",
       "    </tr>\n",
       "    <tr>\n",
       "      <th>10</th>\n",
       "      <td>Newcastle</td>\n",
       "      <td>Southampton</td>\n",
       "      <td>0.408966</td>\n",
       "      <td>0.249056</td>\n",
       "      <td>0.334987</td>\n",
       "    </tr>\n",
       "    <tr>\n",
       "      <th>11</th>\n",
       "      <td>Everton</td>\n",
       "      <td>Brighton</td>\n",
       "      <td>0.408966</td>\n",
       "      <td>0.249056</td>\n",
       "      <td>0.334987</td>\n",
       "    </tr>\n",
       "  </tbody>\n",
       "</table>\n",
       "</div>"
      ],
      "text/plain": [
       "      HomeTeam     AwayTeam    P_home    P_draw    P_away\n",
       "5   Man United       Fulham  0.408966  0.249056  0.334987\n",
       "8      Ipswich    Liverpool  0.408966  0.249056  0.334987\n",
       "9      Arsenal       Wolves  0.408966  0.249056  0.334987\n",
       "10   Newcastle  Southampton  0.408966  0.249056  0.334987\n",
       "11     Everton     Brighton  0.408966  0.249056  0.334987"
      ]
     },
     "execution_count": 84,
     "metadata": {},
     "output_type": "execute_result"
    }
   ],
   "source": [
    "add_poisson_probs(df_train, params_df, mean_h, mean_a, rho)\n",
    "add_poisson_probs(df_test,  params_df, mean_h, mean_a, rho)\n",
    "\n",
    "# Vérification\n",
    "df_train[['HomeTeam', 'AwayTeam', 'P_home', 'P_draw', 'P_away']].head()"
   ]
  },
  {
   "cell_type": "code",
   "execution_count": 85,
   "id": "2456bfec-9300-40f1-968a-e48feb6699ad",
   "metadata": {},
   "outputs": [],
   "source": [
    "# 7. Ajout de la forme (5 derniers matchs)\n",
    "min_periods = 1\n",
    "n_matches_form = 5\n",
    "\n",
    "# Tuples bien formatés : (col_form, col_against, side)\n",
    "for col_form, col_against, side in [\n",
    "    (\"home_GF\", \"FTHG\", \"HomeTeam\"),\n",
    "    (\"away_GF\", \"FTAG\", \"AwayTeam\"),\n",
    "    (\"home_GA\", \"FTAG\", \"HomeTeam\"),\n",
    "    (\"away_GA\", \"FTHG\", \"AwayTeam\"),\n",
    "]:\n",
    "    if col_form not in df.columns:\n",
    "        df[col_form] = (\n",
    "            df.groupby(side)[col_against]\n",
    "              .transform(lambda x: x.rolling(n_matches_form, min_periods=min_periods).mean())\n",
    "        )\n",
    "\n",
    "# Création des features de différentiels de forme\n",
    "df[\"diff_avg_form_GF\"] = df[\"home_GF\"] - df[\"away_GF\"]\n",
    "df[\"diff_avg_form_GA\"] = df[\"away_GA\"] - df[\"home_GA\"]\n",
    "\n",
    "# Suppression des colonnes brutes\n",
    "df.drop(columns=[\"home_GF\", \"away_GF\", \"home_GA\", \"away_GA\"], inplace=True)\n",
    "\n"
   ]
  },
  {
   "cell_type": "code",
   "execution_count": 86,
   "id": "d74b7022-0610-42a0-b6b4-6e4a34c85a37",
   "metadata": {},
   "outputs": [],
   "source": [
    "# 7. Ajout de la forme (5 derniers matchs)\n",
    "for col, col_for, col_against, side in [\n",
    "    ('home_GF', 'FTHG', 'FTAG', 'HomeTeam'),\n",
    "    ('away_GF', 'FTAG', 'FTHG', 'AwayTeam')]:\n",
    "    df[col] = df.groupby(side)[col_for].transform(lambda x: x.rolling(5, min_periods=1).mean())\n",
    "    df[col.replace('GF', 'GA')] = df.groupby(side)[col_against].transform(lambda x: x.rolling(5, min_periods=1).mean())\n",
    "\n",
    "df['diff_form_GF'] = df['home_GF'] - df['away_GF']\n",
    "df['diff_form_GA'] = df['away_GA'] - df['home_GA']\n",
    "df['diff_odds'] = df['B365A'] - df['B365H']"
   ]
  },
  {
   "cell_type": "code",
   "execution_count": 87,
   "id": "d79d4157-f50e-4e29-bbd4-6f0f615f20a9",
   "metadata": {},
   "outputs": [],
   "source": [
    "# 7bis. Ajout de la différence de cotes\n",
    "if all(col in df.columns for col in ['B365H', 'B365A']):\n",
    "    df['diff_odds'] = df['B365A'] - df['B365H']\n",
    "else:\n",
    "    print(\"⚠️ Les colonnes B365H et/ou B365A sont manquantes.\")\n"
   ]
  },
  {
   "cell_type": "code",
   "execution_count": 88,
   "id": "0f483ac8-1538-4a97-b796-8d3502ed6e6a",
   "metadata": {},
   "outputs": [],
   "source": [
    "# 8. Split train/test\n",
    "cutoff = pd.to_datetime(\"2025-01-01\")\n",
    "df_train = df[df['Date'] < cutoff].dropna()\n",
    "df_test = df[df['Date'] >= cutoff].dropna()\n",
    "\n",
    "features = [\n",
    "    'P_home_dc', 'P_draw_dc', 'P_away_dc',\n",
    "    'diff_form_GF', 'diff_form_GA', 'diff_odds',\n",
    "    'P_home', 'P_draw', 'P_away'\n",
    "]\n",
    "\n",
    "X_train = df_train[features]\n",
    "y_train = df_train['Result']\n",
    "X_test = df_test[features]\n",
    "y_test = df_test['Result']\n"
   ]
  },
  {
   "cell_type": "code",
   "execution_count": 90,
   "id": "f8bc6940-b1d4-483a-af4b-3a50027637b1",
   "metadata": {},
   "outputs": [
    {
     "name": "stdout",
     "output_type": "stream",
     "text": [
      "✅ Lignes train : (175, 6)\n",
      "✅ Lignes test  : (50, 6)\n",
      "✅ Classes dans y_test : [2 0 1]\n"
     ]
    }
   ],
   "source": [
    "# 9. Sélection des features finales (Poisson DC + forme + cotes)\n",
    "features_ext = [\n",
    "    'P_home_dc', 'P_draw_dc', 'P_away_dc',\n",
    "    'diff_avg_form_GF', 'diff_avg_form_GA',\n",
    "    'diff_odds'\n",
    "]\n",
    "\n",
    "# Nettoyage (on enlève les lignes avec NaNs)\n",
    "df_train_clean = df_train.dropna(subset=features_ext + ['Result']).copy()\n",
    "df_test_clean  = df_test.dropna(subset=features_ext + ['Result']).copy()\n",
    "\n",
    "# Séparation X / y\n",
    "X_train = df_train_clean[features_ext]\n",
    "y_train = df_train_clean['Result']\n",
    "X_test  = df_test_clean[features_ext]\n",
    "y_test  = df_test_clean['Result']\n",
    "\n",
    "# Vérif rapide\n",
    "print(\"✅ Lignes train :\", X_train.shape)\n",
    "print(\"✅ Lignes test  :\", X_test.shape)\n",
    "print(\"✅ Classes dans y_test :\", y_test.unique())\n"
   ]
  },
  {
   "cell_type": "code",
   "execution_count": 91,
   "id": "ac1db457-97ca-4d15-be84-ce6acc7e1538",
   "metadata": {},
   "outputs": [
    {
     "name": "stdout",
     "output_type": "stream",
     "text": [
      "\n",
      "🔹 Log-loss : 0.7876114658680631\n",
      "🔹 Accuracy : 0.64\n"
     ]
    }
   ],
   "source": [
    "# 9. Modèle final\n",
    "model = LogisticRegression(multi_class='multinomial', solver='lbfgs', max_iter=1000)\n",
    "model.fit(X_train, y_train)\n",
    "y_pred = model.predict(X_test)\n",
    "y_pred_proba = model.predict_proba(X_test)\n",
    "\n",
    "print(\"\\n🔹 Log-loss :\", log_loss(y_test, y_pred_proba))\n",
    "print(\"🔹 Accuracy :\", accuracy_score(y_test, y_pred))\n"
   ]
  },
  {
   "cell_type": "code",
   "execution_count": 97,
   "id": "e39cc2d9-d9bf-4fb9-9c63-7997332ce870",
   "metadata": {},
   "outputs": [
    {
     "data": {
      "image/png": "[encoded data removed]",
      "text/plain": [
       "<Figure size 640x480 with 2 Axes>"
      ]
     },
     "metadata": {},
     "output_type": "display_data"
    },
    {
     "name": "stdout",
     "output_type": "stream",
     "text": [
      "\n",
      "🧾 Rapport de classification :\n",
      "\n",
      "              precision    recall  f1-score   support\n",
      "\n",
      "    Home Win       0.68      0.76      0.72        17\n",
      "        Draw       0.12      0.11      0.12         9\n",
      "    Away Win       0.78      0.75      0.77        24\n",
      "\n",
      "    accuracy                           0.64        50\n",
      "   macro avg       0.53      0.54      0.54        50\n",
      "weighted avg       0.63      0.64      0.63        50\n",
      "\n"
     ]
    }
   ],
   "source": [
    "from sklearn.metrics import confusion_matrix, ConfusionMatrixDisplay, classification_report\n",
    "\n",
    "# Matrice de confusion\n",
    "cm = confusion_matrix(y_test, y_pred)\n",
    "disp = ConfusionMatrixDisplay(confusion_matrix=cm, display_labels=[\"Home Win\", \"Draw\", \"Away Win\"])\n",
    "disp.plot(cmap=\"Blues\")\n",
    "plt.title(\"Matrice de confusion du modèle final\")\n",
    "plt.grid(False)\n",
    "plt.show()\n",
    "\n",
    "# Rapport détaillé\n",
    "print(\"\\n🧾 Rapport de classification :\\n\")\n",
    "print(classification_report(y_test, y_pred, target_names=[\"Home Win\", \"Draw\", \"Away Win\"]))\n"
   ]
  },
  {
   "cell_type": "code",
   "execution_count": 92,
   "id": "ce3c3805-91de-4356-92a2-69744fd22ce0",
   "metadata": {},
   "outputs": [
    {
     "name": "stdout",
     "output_type": "stream",
     "text": [
      "📉 Log-loss : 0.7876114658680631\n",
      "✅ Accuracy : 0.64\n"
     ]
    }
   ],
   "source": [
    "# Entraînement du modèle\n",
    "model_ext = LogisticRegression(multi_class=\"multinomial\", solver=\"lbfgs\", max_iter=1000)\n",
    "model_ext.fit(X_train, y_train)\n",
    "\n",
    "# Prédictions\n",
    "y_pred_proba = model_ext.predict_proba(X_test)\n",
    "y_pred_class = model_ext.predict(X_test)\n",
    "\n",
    "# Évaluation\n",
    "print(\"📉 Log-loss :\", log_loss(y_test, y_pred_proba, labels=[0, 1, 2]))\n",
    "print(\"✅ Accuracy :\", accuracy_score(y_test, y_pred_class))\n"
   ]
  },
  {
   "cell_type": "code",
   "execution_count": 93,
   "id": "e760f8d5-e1e7-4149-912a-7b58817a01c2",
   "metadata": {},
   "outputs": [
    {
     "data": {
      "image/png": "[encoded data removed]",
      "text/plain": [
       "<Figure size 640x480 with 2 Axes>"
      ]
     },
     "metadata": {},
     "output_type": "display_data"
    }
   ],
   "source": [
    "from sklearn.metrics import confusion_matrix, ConfusionMatrixDisplay\n",
    "\n",
    "# Affichage de la matrice de confusion\n",
    "cm = confusion_matrix(y_test, y_pred_class)\n",
    "disp = ConfusionMatrixDisplay(confusion_matrix=cm, display_labels=[\"Home Win\", \"Draw\", \"Away Win\"])\n",
    "disp.plot(cmap='Blues')\n",
    "plt.title(\"Matrice de confusion du modèle\")\n",
    "plt.grid(False)\n",
    "plt.show()\n"
   ]
  },
  {
   "cell_type": "code",
   "execution_count": 94,
   "id": "f3b8420c-050f-4a8e-b63a-7c261f2a47b5",
   "metadata": {},
   "outputs": [
    {
     "name": "stdout",
     "output_type": "stream",
     "text": [
      "🔍 Log-loss (calibré) : 1.4785955304644913\n",
      "📊 Accuracy (calibré) : 0.6\n"
     ]
    }
   ],
   "source": [
    "from sklearn.calibration import CalibratedClassifierCV\n",
    "\n",
    "# Calibration du modèle déjà entraîné (LogisticRegression ici)\n",
    "calibrated_model = CalibratedClassifierCV(base_estimator=model_ext, method='isotonic', cv=5)\n",
    "calibrated_model.fit(X_train, y_train)\n",
    "\n",
    "# Prédictions calibrées\n",
    "y_pred_proba_calib = calibrated_model.predict_proba(X_test)\n",
    "y_pred_class_calib = calibrated_model.predict(X_test)\n",
    "\n",
    "# Évaluation\n",
    "print(\"🔍 Log-loss (calibré) :\", log_loss(y_test, y_pred_proba_calib, labels=[0,1,2]))\n",
    "print(\"📊 Accuracy (calibré) :\", accuracy_score(y_test, y_pred_class_calib))\n"
   ]
  },
  {
   "cell_type": "code",
   "execution_count": 95,
   "id": "42bad35f-cb53-4536-b2a4-7364625524db",
   "metadata": {},
   "outputs": [
    {
     "name": "stdout",
     "output_type": "stream",
     "text": [
      "🔍 Log-loss (calibré) : 1.4785955304644913\n",
      "📊 Accuracy (calibré) : 0.6\n"
     ]
    }
   ],
   "source": [
    "from sklearn.calibration import CalibratedClassifierCV\n",
    "\n",
    "# Calibration du modèle déjà entraîné\n",
    "calibrated_model = CalibratedClassifierCV(base_estimator=model_ext, method='isotonic', cv=5)\n",
    "calibrated_model.fit(X_train, y_train)\n",
    "\n",
    "# Prédictions calibrées\n",
    "y_pred_proba_calib = calibrated_model.predict_proba(X_test)\n",
    "y_pred_class_calib = calibrated_model.predict(X_test)\n",
    "\n",
    "# Évaluation calibrée\n",
    "print(\"🔍 Log-loss (calibré) :\", log_loss(y_test, y_pred_proba_calib, labels=[0,1,2]))\n",
    "print(\"📊 Accuracy (calibré) :\", accuracy_score(y_test, y_pred_class_calib))\n"
   ]
  },
  {
   "cell_type": "code",
   "execution_count": 96,
   "id": "0bd02f26-44ea-4acf-9032-493d3a58b2c5",
   "metadata": {},
   "outputs": [
    {
     "name": "stderr",
     "output_type": "stream",
     "text": [
      "C:\\Users\\Louis\\miniconda3\\envs\\parisfoot\\lib\\site-packages\\IPython\\core\\pylabtools.py:170: UserWarning: Glyph 128200 (\\N{CHART WITH UPWARDS TREND}) missing from font(s) DejaVu Sans.\n",
      "  fig.canvas.print_figure(bytes_io, **kw)\n"
     ]
    },
    {
     "data": {
      "image/png": "[encoded data removed]",
      "text/plain": [
       "<Figure size 600x600 with 1 Axes>"
      ]
     },
     "metadata": {},
     "output_type": "display_data"
    }
   ],
   "source": [
    "# 𝘾𝙪𝙧𝙫𝙚 𝙙𝙚 𝙘𝙖𝙡𝙞𝙗𝙧𝙖𝙩𝙞𝙤𝙣 𝙖𝙥𝙧è𝙨 𝙘𝙤𝙧𝙧𝙚𝙘𝙩𝙞𝙤𝙣\n",
    "true_dom_calib = (y_test == 0).astype(int)\n",
    "prob_dom_calib = y_pred_proba_calib[:, 0]\n",
    "prob_pred_calib, prob_true_calib = calibration_curve(true_dom_calib, prob_dom_calib, n_bins=10)\n",
    "\n",
    "plt.figure(figsize=(6, 6))\n",
    "plt.plot(prob_pred_calib, prob_true_calib, marker='o', label='Modèle calibré')\n",
    "plt.plot([0, 1], [0, 1], linestyle='--', label='Idéal')\n",
    "plt.xlabel(\"Prob. prédite (domicile)\")\n",
    "plt.ylabel(\"Prob. réelle\")\n",
    "plt.title(\"📈 Calibration : Victoire domicile (calibrée)\")\n",
    "plt.legend()\n",
    "plt.grid()\n",
    "plt.show()\n"
   ]
  },
  {
   "cell_type": "code",
   "execution_count": null,
   "id": "b92b9f05-e6de-452e-9f6b-2bb824bc0dac",
   "metadata": {},
   "outputs": [],
   "source": []
  }
 ],
 "metadata": {
  "kernelspec": {
   "display_name": "Python 3 (ipykernel)",
   "language": "python",
   "name": "python3"
  },
  "language_info": {
   "codemirror_mode": {
    "name": "ipython",
    "version": 3
   },
   "file_extension": ".py",
   "mimetype": "text/x-python",
   "name": "python",
   "nbconvert_exporter": "python",
   "pygments_lexer": "ipython3",
   "version": "3.10.16"
  }
 },
 "nbformat": 4,
 "nbformat_minor": 5
}
